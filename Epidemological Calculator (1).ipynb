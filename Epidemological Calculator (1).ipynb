{
 "cells": [
  {
   "cell_type": "code",
   "execution_count": null,
   "id": "f290eb55",
   "metadata": {},
   "outputs": [],
   "source": [
    "number_of_new_case = int(input(\"Number of new cases: \"))\n",
    "population = int(input(\"population:  \"))\n",
    "time_frame = int(input(\"timeframe in days: \"))\n",
    "average_life_expectantcy = int(input(\"average life expectantcy: \"))\n",
    "ages_at_death = int(input(\"ages_at_death: \"))\n",
    "\n",
    "\n",
    "\n",
    "prevalence = (number_of_new_case / population)*\n",
    "print(prevalence)\n",
    "\n",
    "\n",
    "\n",
    "incidence = (number_of_new_case / (population * time_frame))*\n",
    "print(incidence)\n",
    "\n",
    "\n",
    "mortality_rate = (number_of_deaths / population)*\n",
    "print(mortality_rate)\n",
    "\n",
    "years_of_potential_life_lost =  (average_life_expectantcy - (ages_at_death))\n",
    "print (years_of_potential_life_lost)\n"
   ]
  }
 ],
 "metadata": {
  "kernelspec": {
   "display_name": "Python 3 (ipykernel)",
   "language": "python",
   "name": "python3"
  },
  "language_info": {
   "codemirror_mode": {
    "name": "ipython",
    "version": 3
   },
   "file_extension": ".py",
   "mimetype": "text/x-python",
   "name": "python",
   "nbconvert_exporter": "python",
   "pygments_lexer": "ipython3",
   "version": "3.11.4"
  }
 },
 "nbformat": 4,
 "nbformat_minor": 5
}
