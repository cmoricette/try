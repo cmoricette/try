{
 "cells": [
  {
   "cell_type": "code",
   "execution_count": null,
   "id": "b5f824d7",
   "metadata": {},
   "outputs": [],
   "source": [
    "#Codes I used for my cases. \n",
    "\n",
    "#Information Input\n",
    "number_of_new_case = int(input(\"Number of new cases: \"))\n",
    "population = int(input(\"Population: \"))\n",
    "time_frame = int(input(\"Timeframe in days: \"))\n",
    "\n",
    "\n",
    "#prevalence\n",
    "\n",
    "prevalence = (number_of_new_case / population)*100\n",
    "print(prevalence)\n",
    "\n",
    "#Incidence\n",
    "\n",
    "incidence = (number_of_new_case / (population * time_frame))*100\n",
    "print(incidence)\n",
    "\n",
    "#Mortality Rate\n",
    "\n",
    "mortality_rate = (number_of_deaths / population)*100\n",
    "print(mortality_rate)\n",
    "\n",
    "#Years of Lives Lost\n",
    "\n",
    "YPLL = \n"
   ]
  }
 ],
 "metadata": {
  "kernelspec": {
   "display_name": "Python 3 (ipykernel)",
   "language": "python",
   "name": "python3"
  },
  "language_info": {
   "codemirror_mode": {
    "name": "ipython",
    "version": 3
   },
   "file_extension": ".py",
   "mimetype": "text/x-python",
   "name": "python",
   "nbconvert_exporter": "python",
   "pygments_lexer": "ipython3",
   "version": "3.11.4"
  }
 },
 "nbformat": 4,
 "nbformat_minor": 5
}
