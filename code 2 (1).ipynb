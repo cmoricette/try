{
 "cells": [
  {
   "cell_type": "code",
   "execution_count": null,
   "id": "75f28783",
   "metadata": {},
   "outputs": [],
   "source": [
    "# input temperature\n",
    "temperature = input(\"Enter the patient's temperature (in degrees Fahrenheit): \")"
   ]
  },
  {
   "cell_type": "code",
   "execution_count": null,
   "id": "7df0d347",
   "metadata": {},
   "outputs": [],
   "source": [
    "# check temperature\n",
    "if temperature.replace(\".\",\"\",1).isdigit()\n",
    "    temperature_input = float(temperature)\n",
    "    \n",
    "        if temperature_input >= 99.5:\n",
    "            print(\"The patient has a high temperature\")\n",
    "        else: \n",
    "            print(\"The patient has a normal temperature\")\n",
    "        else:\n",
    "            print(\"Error: Please enter a valid temperature (numeric value).\")"
   ]
  },
  {
   "cell_type": "code",
   "execution_count": null,
   "id": "43586f95",
   "metadata": {},
   "outputs": [],
   "source": []
  }
 ],
 "metadata": {
  "kernelspec": {
   "display_name": "Python 3 (ipykernel)",
   "language": "python",
   "name": "python3"
  }
 },
 "nbformat": 4,
 "nbformat_minor": 5
}
